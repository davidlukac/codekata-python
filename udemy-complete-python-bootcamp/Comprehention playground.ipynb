{
 "cells": [
  {
   "cell_type": "code",
   "execution_count": 1,
   "metadata": {
    "collapsed": false
   },
   "outputs": [
    {
     "name": "stdout",
     "output_type": "stream",
     "text": [
      "['DOS', 'TRES', 'BAR', 'BAZ', 'BIZ']\n"
     ]
    }
   ],
   "source": [
    "from pprint import pprint\n",
    "\n",
    "words = [\"uno\", \"dos\", \"tres\", \"foo\", \"bar\", \"baz\", \"biz\"]\n",
    "\n",
    "result = [word.upper() for word in words if word.startswith('b') or word.endswith('s')]\n",
    "\n",
    "pprint(result)"
   ]
  },
  {
   "cell_type": "code",
   "execution_count": 3,
   "metadata": {},
   "outputs": [
    {
     "name": "stdout",
     "output_type": "stream",
     "text": [
      "[['man', 'thats'], ['right', 'awesome']]\n"
     ]
    }
   ],
   "source": [
    "from pprint import pprint\n",
    "\n",
    "tags = ['man', 'you', 'are', 'awesome']\n",
    "entries = [['man', 'thats'], ['right', 'awesome']]\n",
    "\n",
    "result = [entry for tag in tags for entry in entries if tag in entry]\n",
    "\n",
    "pprint(result)"
   ]
  },
  {
   "cell_type": "code",
   "execution_count": 4,
   "metadata": {},
   "outputs": [
    {
     "name": "stdout",
     "output_type": "stream",
     "text": [
      "['a', 'b', 'c', 'd', 'e']\n"
     ]
    }
   ],
   "source": [
    "from pprint import pprint\n",
    "some_list = ['a', 'b', 'c']\n",
    "some_list.extend(['d', 'e'])\n",
    "pprint(some_list)"
   ]
  }
 ],
 "metadata": {
  "anaconda-cloud": {},
  "kernelspec": {
   "display_name": "Python 3",
   "language": "python",
   "name": "python3"
  },
  "language_info": {
   "codemirror_mode": {
    "name": "ipython",
    "version": 3.0
   },
   "file_extension": ".py",
   "mimetype": "text/x-python",
   "name": "python",
   "nbconvert_exporter": "python",
   "pygments_lexer": "ipython3",
   "version": "3.5.2"
  }
 },
 "nbformat": 4,
 "nbformat_minor": 0
}